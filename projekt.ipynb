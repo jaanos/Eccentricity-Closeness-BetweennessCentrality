{
 "cells": [
  {
   "cell_type": "markdown",
   "metadata": {
    "collapsed": false
   },
   "source": [
    "# BLIŽINA, EKSCENTRIČNOST IN VMESNA CENTRALNOST"
   ]
  },
  {
   "cell_type": "markdown",
   "metadata": {
    "collapsed": false
   },
   "source": [
    "Pri najinem projektu bova s pomočjo treh različnih mer (ekscentričnosti, bližine in vmesne centralnosti) iskala in analizirala najpomembnejša vozlišča v grafih oziroma socialnih omrežjih. Vozlišče je pomembnejše, če ima višjo vrednost bližine in vmesne centralnosti ter nižjo vrednost ekscentričnosti. Natančnejši opisi pojmov so spodaj. Primerjala bova, kako pogosto je vozlišče, ki je pomembno z vidika ene mere, pomembno tudi v okviru ostalih dveh mer.\n",
    "\n",
    "Najino glavno orodje za analizo grafov bo $Sage$, kjer bova generirala več grafov (približno 1000) v različnih velikostih (približno 10), grafe socialnih omrežij pa bova pridobila s spleta. Opazovala bova tudi, kako se vrednosti mer za najpomembnejša vozlišča spremenijo, če se omejimo na podgraf v določenem grafu. Grafi, ki jih bova pri projektu analizirala, bodo neusmerjeni."
   ]
  },
  {
   "cell_type": "markdown",
   "metadata": {
    "collapsed": false
   },
   "source": [
    "## Bližina\n",
    "Bližina je v povezanem grafu mera centralnosti, ki jo izračunamo kot\n",
    "recipročno vsoto dolžin najkrajših poti med nekim vozliščem in vsemi\n",
    "drugimi vozlišči v grafu. Bližje kot je opazovano vozlišče ostalim\n",
    "vozliščem v grafu, bolj centralno je.\n",
    "C(x) = \\frac{1}{\\sum_{y}^{} d(y,x)},\n",
    "kjer je *d*(*y*, *x*) razdalja med vozliščema x in y. Pogosto se namesto\n",
    "zgornje vrednosti izračuna povprečno dolžino najkrajše poti v grafu.\n",
    "Dobimo jo tako, da zgornjo formulo pomnožimo z *N* − 1, kjer je *N*\n",
    "število vseh vozlišč v grafu. Pri obsežnejših grafih se  − 1 izpusti iz\n",
    "enačbe, zato se za bližino uporablja kar sledečo formulo:\n",
    "$$C(x) = \\\\frac{N}{\\\\sum\\_{y}^{} d(y,x)}.$$\n",
    "\n",
    "Pri usmerjenih grafih je potrebno upoštevati tudi smer povezav. Določeno\n",
    "vozlišče ima lahko različno bližino za vhodne in izhodne povezave. V\n",
    "nepovezanih grafih namesto recipročne vsote dolžin najkrajših poti med\n",
    "vozlišči računamo vsoto recipročnih dolžin najkrajših poti med vozlišči.\n",
    "Pri tem upoštevamo, da $\\\\frac{1}{\\\\infty} = 0.$\n",
    "$$H(x) = \\\\sum\\_{y \\\\ne x}^{} \\\\frac{1}{d(y, x)}.$$"
   ]
  },
  {
   "cell_type": "markdown",
   "metadata": {
    "collapsed": false
   },
   "source": [
    "## Implementacija algoritma\n",
    "Torej najprej se bova osredotočila na implementacijo algoritma, ki bo osnovan na podlagi Dijkstrovega algoritma, ki mu bova dodala vse tri mere, glede na katere bova ocenjevala grafe."
   ]
  },
  {
   "cell_type": "code",
   "execution_count": 13,
   "metadata": {
    "collapsed": false
   },
   "outputs": [
    {
     "data": {
      "text/plain": [
       "deque(['a', 'b', 'd', 'e'])"
      ]
     },
     "execution_count": 13,
     "metadata": {
     },
     "output_type": "execute_result"
    }
   ],
   "source": [
    "from collections import deque, namedtuple\n",
    "\n",
    "\n",
    "# uporabimo neskončno za začetno razdaljo do vozlišč.\n",
    "inf = float('inf')\n",
    "#trojka z začetnm vozliščem, končnim vozliščem in ceno povezave\n",
    "Edge = namedtuple('Edge', 'start, end, cost')\n",
    "\n",
    "\n",
    "def make_edge(start, end, cost=1):\n",
    "  return Edge(start, end, cost)\n",
    "\n",
    "\n",
    "class Graph:\n",
    "    def __init__(self, edges):\n",
    "        # preverimo če so pravi podatki torej če lahko iz tega zgradimo graf\n",
    "        wrong_edges = [i for i in edges if len(i) not in [2, 3]]\n",
    "        if wrong_edges:\n",
    "            raise ValueError('Wrong edges data: {}'.format(wrong_edges))\n",
    "\n",
    "        self.edges = [make_edge(*edge) for edge in edges]\n",
    "\n",
    "    @property\n",
    "    def vertices(self):\n",
    "        #dobimo množico vozlišč, ki so v grafu\n",
    "        return set(\n",
    "            sum(\n",
    "                ([edge.start, edge.end] for edge in self.edges), []\n",
    "            )\n",
    "        )\n",
    "\n",
    "    def get_node_pairs(self, n1, n2, both_ends=True):\n",
    "        #dobimo pare vozlišč\n",
    "        if both_ends:\n",
    "            node_pairs = [[n1, n2], [n2, n1]]\n",
    "        else:\n",
    "            node_pairs = [[n1, n2]]\n",
    "        return node_pairs\n",
    "\n",
    "    def remove_edge(self, n1, n2, both_ends=True):\n",
    "        #funkcija, ki odstrani povezavo med vozliščema\n",
    "        node_pairs = self.get_node_pairs(n1, n2, both_ends)\n",
    "        edges = self.edges[:]\n",
    "        for edge in edges:\n",
    "            if [edge.start, edge.end] in node_pairs:\n",
    "                self.edges.remove(edge)\n",
    "\n",
    "    def add_edge(self, n1, n2, cost=1, both_ends=True):\n",
    "        #funkcija, ki doda povezavo med vozliščema\n",
    "        node_pairs = self.get_node_pairs(n1, n2, both_ends)\n",
    "        for edge in self.edges:\n",
    "            if [edge.start, edge.end] in node_pairs:\n",
    "                return ValueError('Edge {} {} already exists'.format(n1, n2))\n",
    "\n",
    "        self.edges.append(Edge(start=n1, end=n2, cost=cost))\n",
    "        if both_ends:\n",
    "            self.edges.append(Edge(start=n2, end=n1, cost=cost))\n",
    "\n",
    "    @property\n",
    "    def neighbours(self):\n",
    "        #funkcija, ki najde sosede vsakega vozlišča\n",
    "        neighbours = {vertex: set() for vertex in self.vertices}\n",
    "        for edge in self.edges:\n",
    "            neighbours[edge.start].add((edge.end, edge.cost))\n",
    "\n",
    "        return neighbours\n",
    "\n",
    "    def dijkstra(self, source, dest):\n",
    "        assert source in self.vertices, 'Such source node doesn\\'t exist'\n",
    "        #nastavimo vse razdalje na začetku na neskončno\n",
    "        distances = {vertex: inf for vertex in self.vertices}\n",
    "        #prejšna vozlišča, nazačetki vse na None\n",
    "        previous_vertices = {\n",
    "            vertex: None for vertex in self.vertices\n",
    "        }\n",
    "        #razdalja od začetka do začetka je 0\n",
    "        distances[source] = 0\n",
    "        #naredimo kopijo\n",
    "        vertices = self.vertices.copy()\n",
    "        #dokler imamo za preverit še kakšno vozlišle\n",
    "        while vertices:\n",
    "            #trenutno vozlišče\n",
    "            current_vertex = min(\n",
    "                vertices, key=lambda vertex: distances[vertex])\n",
    "            vertices.remove(current_vertex)\n",
    "            if distances[current_vertex] == inf:\n",
    "                break\n",
    "            for neighbour, cost in self.neighbours[current_vertex]:\n",
    "                alternative_route = distances[current_vertex] + cost\n",
    "                if alternative_route < distances[neighbour]:\n",
    "                    distances[neighbour] = alternative_route\n",
    "                    previous_vertices[neighbour] = current_vertex\n",
    "\n",
    "        path, current_vertex = deque(), dest\n",
    "        while previous_vertices[current_vertex] is not None:\n",
    "            path.appendleft(current_vertex)\n",
    "            current_vertex = previous_vertices[current_vertex]\n",
    "        if path:\n",
    "            path.appendleft(current_vertex)\n",
    "        return path\n",
    "\n",
    "\n",
    "graph = Graph([\n",
    "    (\"a\", \"b\"),(\"a\", \"f\"), (\"b\", \"c\"),\n",
    "    (\"b\", \"d\"), (\"c\", \"d\"), (\"c\", \"f\"),  (\"d\", \"e\"),\n",
    "    (\"e\", \"f\")])\n",
    "\n",
    "graph.dijkstra(\"a\", \"e\")"
   ]
  },
  {
   "cell_type": "code",
   "execution_count": 0,
   "metadata": {
    "collapsed": false
   },
   "outputs": [
   ],
   "source": [
   ]
  }
 ],
 "metadata": {
  "kernelspec": {
   "display_name": "SageMath (stable)",
   "language": "sagemath",
   "metadata": {
    "cocalc": {
     "description": "Open-source mathematical software system",
     "priority": 10,
     "url": "https://www.sagemath.org/"
    }
   },
   "name": "sagemath"
  },
  "language_info": {
   "codemirror_mode": {
    "name": "ipython",
    "version": 2
   },
   "file_extension": ".py",
   "mimetype": "text/x-python",
   "name": "python",
   "nbconvert_exporter": "python",
   "pygments_lexer": "ipython2",
   "version": "2.7.15"
  }
 },
 "nbformat": 4,
 "nbformat_minor": 0
}