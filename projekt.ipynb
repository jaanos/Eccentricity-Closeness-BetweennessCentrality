{
 "cells": [
  {
   "cell_type": "markdown",
   "metadata": {
    "collapsed": false
   },
   "source": [
    "# BLIŽINA, EKSCENTRIČNOST IN VMESNA CENTRALNOST"
   ]
  },
  {
   "cell_type": "markdown",
   "metadata": {
    "collapsed": false
   },
   "source": [
    "Pri najinem projektu bova s pomočjo treh različnih mer (ekscentričnosti, bližine in vmesne centralnosti) iskala in analizirala najpomembnejša vozlišča v grafih oziroma socialnih omrežjih. Vozlišče je pomembnejše, če ima višjo vrednost bližine in vmesne centralnosti ter nižjo vrednost ekscentričnosti. Natančnejši opisi pojmov so spodaj. Primerjala bova, kako pogosto je vozlišče, ki je pomembno z vidika ene mere, pomembno tudi v okviru ostalih dveh mer.\n",
    "\n",
    "Najino glavno orodje za analizo grafov bo $Sage$, kjer bova generirala več grafov (približno 1000) v različnih velikostih (približno 10), grafe socialnih omrežij pa bova pridobila s spleta. Opazovala bova tudi, kako se vrednosti mer za najpomembnejša vozlišča spremenijo, če se omejimo na podgraf v določenem grafu. Grafi, ki jih bova pri projektu analizirala, bodo neusmerjeni."
   ]
  },
  {
   "cell_type": "markdown",
   "metadata": {
    "collapsed": false
   },
   "source": [
    "## Bližina\n",
    "Bližina je v povezanem grafu mera centralnosti, ki jo izračunamo kot\n",
    "recipročno vsoto dolžin najkrajših poti med nekim vozliščem in vsemi\n",
    "drugimi vozlišči v grafu. Bližje kot je opazovano vozlišče ostalim\n",
    "vozliščem v grafu, bolj centralno je.\n",
    "\n",
    "\\begin{equation*}\n",
    "C(x) = \\frac{1}{\\sum_{y}d(y,x)},\n",
    "\\end{equation*}\n",
    "\n",
    "kjer je *d*(*y*, *x*) razdalja med vozliščema x in y. Pogosto se namesto\n",
    "zgornje vrednosti izračuna povprečno dolžino najkrajše poti v grafu.\n",
    "Dobimo jo tako, da zgornjo formulo pomnožimo z *N* − 1, kjer je *N*\n",
    "število vseh vozlišč v grafu. Pri obsežnejših grafih se  − 1 izpusti iz\n",
    "enačbe, zato se za bližino uporablja kar sledečo formulo:\n",
    "\n",
    "\\begin{equation*}\n",
    "C(x) = \\frac{N}{\\sum_{y}d(y,x)}.\n",
    "\\end{equation*}\n",
    "\n",
    "Pri usmerjenih grafih je potrebno upoštevati tudi smer povezav. Določeno\n",
    "vozlišče ima lahko različno bližino za vhodne in izhodne povezave. V\n",
    "nepovezanih grafih namesto recipročne vsote dolžin najkrajših poti med\n",
    "vozlišči računamo vsoto recipročnih dolžin najkrajših poti med vozlišči.\n",
    "Pri tem upoštevamo, da $1/\\infty = 0$\n",
    "\n",
    "\\begin{equation*}\n",
    "H(x) = \\frac{N}{\\sum_{y \\neq x}d(y,x)}.\n",
    "\\end{equation*}"
   ]
  },
  {
   "cell_type": "markdown",
   "metadata": {
    "collapsed": false
   },
   "source": [
    "## Ekscentričnost (izsrednost)\n",
    "Ekscentričnost nekega vozlišča $v$  v povezanem grafu $G$ označimo z $\\epsilon(v)$ in je definirana kot maksimalna dolžina med vozliščem $v$ in katerimkoli drugim vozliščem v grafu $G$. V nepovezanih grafih imajo vsa vozlišča neskončno vrednost ekscentičnosti.\n",
    "Maksimalno ekscentričnost v grafu imenujemo diameter (premer) grafa (najdaljša najkrajša pot med dvema vozliščema grafa), minimalno ekscentričnost pa polmer grafa."
   ]
  },
  {
   "cell_type": "markdown",
   "metadata": {
    "collapsed": false
   },
   "source": [
    "## Vmesna centralnost\n",
    "\n",
    "V teoriji grafov je vmesna centralnost mera centralizacije grafa, ki temelji na najkrajših poteh v grafu. Za vsak par vozlišč v povezanem grafu, obstaja vsaj ena najkrajša pot med vozliščema tako, da je katerokoli število povezav, po katerih gre ta pot (za neutežene grafe) ali pa vsota uteži na povezavah (za utežene grafe) minimalna. Vmesna centralnost za vsako vozlišče je število teh najkrajših poti, ki grejo skozi vozlišče. Vmesna centralnost se uporablja v mnogih problemih v teoriji omrežij, tudi v problemih povezanih s socialnimi omrežji, biologijo in transportom. V telekomunikacijskem omrežju ima vozlišče z višjo vrednostjo vmesne centralnosti večjo kontrolo nad omrežjem, ker bo več informacij teklo čez to vozlišče. Vmesna centralnost vozlišča $v$ je podana z izrazom:\n",
    "\n",
    "\\begin{equation*}\n",
    "g(v) = \\sum_{s \\ne v \\ne t}^{ } \\frac{\\sigma_{st} (v)}{\\sigma_{st}}\n",
    "\\end{equation*}\n",
    "\n",
    "Kjer je $\\sigma_{st}$ skupno število najkrajših poti od vozlišča $s$ do vozlišča $t$ in $\\sigma_{st} (v)$ je število teh poti, ki grejo skozi $v$. "
   ]
  },
  {
   "cell_type": "markdown",
   "metadata": {
    "collapsed": false
   },
   "source": [
    "## Implementacija algoritma\n",
    "Najprej se bova osredotočila na implementacijo algoritma. Kot prvo sva definirala bližino, ekscentričnost in vmesno centralnost, nato pa sva za sam algoritem potrebovala še dve funkciji, in sicer *najboljsa_vozlisca* in *skupna*. Prva nam pomaga iz seznama vozlišč in mer, ki jih dobimo na začetku v funkcijah *blizina*, *ekscentricnost* in *vmesna_centralnost*, izločiti tista vozlišča, ki nam predstavljajo najboljših 10% vozlišč. Pri bližini in vmesni centralnosti so to vozlišča, ki imajo najvišjo vrednost, pri ekscentričnosti pa vozlišča z najmanjšo vrednostjo. V drugi funkciji pa preverimo, katera vozlišča so skupna v vseh treh seznamih najboljših vozlišč. Na ta način dobimo množico tistih vozlišč, ki se pojavijo v vseh treh merah kot najboljša. V funkciji *algoritem*, ki je odvisna od podane velikosti za graf, pa nato za 100 grafov iste velikosti poračunamo kolikšen procent vozlišč se ujema pri vseh treh merah. Sproti računamo še povprečje tega procenta za vseh 100 grafov, kar bova v prvem delu tudi poskusila analizirati. "
   ]
  },
  {
   "cell_type": "code",
   "execution_count": 1,
   "metadata": {
    "collapsed": false
   },
   "outputs": [
    {
     "data": {
      "image/png": "[encoded data removed]",
      "text/plain": [
       "Graphics object consisting of 35 graphics primitives"
      ]
     },
     "execution_count": 1,
     "metadata": {
     },
     "output_type": "execute_result"
    }
   ],
   "source": [
    "G = graphs.RandomGNP(10, 0.5)\n",
    "show(G)"
   ]
  },
  {
   "cell_type": "code",
   "execution_count": 2,
   "metadata": {
    "collapsed": false
   },
   "outputs": [
    {
     "data": {
      "text/plain": [
       "[(0, 1/17),\n",
       " (1, 1/15),\n",
       " (2, 1/13),\n",
       " (3, 1/26),\n",
       " (4, 1/13),\n",
       " (5, 1/18),\n",
       " (6, 1/13),\n",
       " (7, 1/12),\n",
       " (8, 1/15),\n",
       " (9, 1/12)]"
      ]
     },
     "execution_count": 2,
     "metadata": {
     },
     "output_type": "execute_result"
    }
   ],
   "source": [
    "def blizina(G):\n",
    "    seznam = []\n",
    "    for x in range(len(G.distance_all_pairs())):\n",
    "        D = 1/sum(G.distance_all_pairs()[x].values())\n",
    "        seznam.append((x,D))\n",
    "    return seznam\n",
    "blizina(G)"
   ]
  },
  {
   "cell_type": "code",
   "execution_count": 3,
   "metadata": {
    "collapsed": false
   },
   "outputs": [
    {
     "data": {
      "text/plain": [
       "[(0, 4),\n",
       " (1, 4),\n",
       " (2, 3),\n",
       " (3, 4),\n",
       " (4, 3),\n",
       " (5, 3),\n",
       " (6, 3),\n",
       " (7, 3),\n",
       " (8, 3),\n",
       " (9, 2)]"
      ]
     },
     "execution_count": 3,
     "metadata": {
     },
     "output_type": "execute_result"
    }
   ],
   "source": [
    "def ekscentricnost(G):\n",
    "    seznam = []\n",
    "    for x in range(len(G.distance_all_pairs())):\n",
    "        E = G.eccentricity(x)\n",
    "        seznam.append((x,E))\n",
    "    return seznam\n",
    "ekscentricnost(G)"
   ]
  },
  {
   "cell_type": "code",
   "execution_count": 4,
   "metadata": {
    "collapsed": false
   },
   "outputs": [
    {
     "data": {
      "text/plain": [
       "[(0, 0.0),\n",
       " (1, 0.034722222222222224),\n",
       " (2, 0.05138888888888888),\n",
       " (3, 0.0),\n",
       " (4, 0.030555555555555558),\n",
       " (5, 0.2222222222222222),\n",
       " (6, 0.05138888888888888),\n",
       " (7, 0.07916666666666665),\n",
       " (8, 0.016666666666666666),\n",
       " (9, 0.40277777777777773)]"
      ]
     },
     "execution_count": 4,
     "metadata": {
     },
     "output_type": "execute_result"
    }
   ],
   "source": [
    "import networkx as nx \n",
    "\n",
    "def vmesna_centralnost(G):\n",
    "    for x in range(len(G.distance_all_pairs())):\n",
    "        nxG = G.networkx_graph()\n",
    "        Vslovar = nx.betweenness_centrality(nxG) #to nam vrne slovar, kjer je vozlišče ključ in vmesna centralnost vozlišča vrednost\n",
    "        V = Vslovar.items() #slovar moramo pretvoriti v seznam, da bo prave oblike za algoritem\n",
    "        return V\n",
    "vmesna_centralnost(G)"
   ]
  },
  {
   "cell_type": "code",
   "execution_count": 8,
   "metadata": {
    "collapsed": false
   },
   "outputs": [
   ],
   "source": [
    "import math\n",
    "\n",
    "def najboljsa_vozlisca(G, velikost, B, E, V):\n",
    "\n",
    "    najboljsi = round(velikost * 0.1) #zračunamo, koliko najboljših vozlišč bomo vzeli ven, če želimo 10% najboljših\n",
    "            \n",
    "    maxB = [] #za bližino želimo dobiti seznam najboljših vozlišč, torej tisth, kjer je bližina največja\n",
    "    for j in range(najboljsi):\n",
    "        najboljsiB = 0\n",
    "        for element in B:\n",
    "            if najboljsiB < element[1]:\n",
    "                najboljsiB = max(najboljsiB, element[1]) #poiščemo vozlišče z največjo bližino\n",
    "                vozlisceB = element[0] #zapomnimo si še vozlišče\n",
    "        B.remove(element) #ta element odstranimo iz seznama B\n",
    "        maxB.append((vozlisceB, najboljsiB)) #element dodamo v nov seznam najboljših (ime vozlišča, vrednost bližine vozlišča)\n",
    "    minimalni = min(maxB, key=lambda x: x[1])[1] #Preveriti moramo še, če je slučajno v B ostal kakšen element, ki ima enako vrednost, kot jo ima najmanjši element v maxB, saj mora biti potem to vozlišče tudi v maxB\n",
    "    for element in B:\n",
    "        if element[1] == minimalni:\n",
    "            maxB.append((element[0], element[1]))\n",
    "\n",
    "    minE = [] #za ekscentričnost želimo dobiti tista vozlišča, kjer je ekscentričnost najmanjša\n",
    "    for j in range(najboljsi):\n",
    "        najboljsiE = 10000000000000 #neka velika številka, ker želimo najti minimum\n",
    "        for elementE in E:\n",
    "            if najboljsiE > elementE[1]:\n",
    "                najboljsiE = min(elementE[1], najboljsiE)\n",
    "                vozlisceE = elementE[0]\n",
    "        E.remove(elementE)\n",
    "        minE.append((vozlisceE, najboljsiE))\n",
    "    maksimalni = max(minE, key=lambda x: x[1])[1] #Preveriti moramo še, če je slučajno v E ostal kakšen element, ki ima enako vrednost, kot jo ima največji element v minE, saj mora biti potem to vozlišče tudi v minE\n",
    "    for element in E:\n",
    "        if element[1] == maksimalni:\n",
    "            minE.append((element[0], element[1]))\n",
    "\n",
    "\n",
    "    maxV = [] #za vmesno centralnost ponovno gledamo največjo vrednost\n",
    "    for j in range(najboljsi):\n",
    "        najboljsiV = 0\n",
    "        for elementV in V:\n",
    "            if najboljsiV < elementV[1]:\n",
    "                najboljsiV = max(najboljsiV, elementV[1])\n",
    "                vozlisceV = elementV[0]\n",
    "        V.remove(elementV)\n",
    "        maxV.append((vozlisceV, najboljsiV))\n",
    "    minimalni = min(maxV, key=lambda x: x[1])[1] #Preveriti moramo še, če je slučajno v V ostal kakšen element, ki ima enako vrednost, kot jo ima najmanjši element v maxV, saj mora biti potem to vozlišče tudi v maxV\n",
    "    for element in V:\n",
    "        if element[1] == minimalni:\n",
    "            maxV.append((element[0], element[1]))\n",
    "\n",
    "    return(maxB, minE, maxV)"
   ]
  },
  {
   "cell_type": "code",
   "execution_count": 9,
   "metadata": {
    "collapsed": false
   },
   "outputs": [
   ],
   "source": [
    "def skupna(maxB, minE, maxV):\n",
    "    imenaB = [] #Shranimo samo imena najpomembnejših vozlišč iz vidika bližine v nov seznam\n",
    "    for element in maxB:\n",
    "        imenaB+= [element[0]]\n",
    "        \n",
    "    imenaE = [] #Shranimo samo imena najpomembnejših vozlišč iz vidika ekscentričnosti v nov seznam\n",
    "    for element in minE:\n",
    "        imenaE+= [element[0]]\n",
    "\n",
    "    imenaV = [] #Shranimo samo imena najpomembnejših vozlišč iz vidika vmesne centralnosti v nov seznam\n",
    "    for element in maxV:\n",
    "        imenaV+= [element[0]]\n",
    "\n",
    "    skupna_vozl = set(imenaB).intersection(imenaE).intersection(imenaV) #naredimo presek vsek treh seznamov.\n",
    "    #Še po parih, če nam bo slučajno pršlo prou ...\n",
    "    #najp_B_E = set(imenaB).intersection(imenaE)\n",
    "    #najp_B_V = set(imenaB).intersection(imenaV)\n",
    "    #najp_E_V = set(imenaE).intersection(imenaV)\n",
    "    return(skupna_vozl)"
   ]
  },
  {
   "cell_type": "code",
   "execution_count": 10,
   "metadata": {
    "collapsed": false
   },
   "outputs": [
    {
     "data": {
      "text/plain": [
       "0.2298095703125"
      ]
     },
     "execution_count": 10,
     "metadata": {
     },
     "output_type": "execute_result"
    }
   ],
   "source": [
    "from __future__ import division\n",
    "\n",
    "def algoritem(velikost):\n",
    "    povprecje = 0\n",
    "    for i in range(10):\n",
    "        G = graphs.RandomGNP(velikost, 0.7) #generiramo graf\n",
    "        if G.is_connected() == True: #preverimo, če je povezan\n",
    "            B = blizina(G) #dobimo seznam vozlišč in njihove bližine\n",
    "            E = ekscentricnost(G) #dobimo seznam vozlišč in njihove ekscentričnosti\n",
    "            V = vmesna_centralnost(G) #dobimo seznam vozlišč in njihove vmesne centralnosti\n",
    "            \n",
    "            maxB, minE, maxV = najboljsa_vozlisca(G, velikost, B, E, V) #naredimo sezname najboljših vozlišč za vsako mero posebej\n",
    "            skupna_vozlisca = skupna(maxB, minE, maxV) #preverimo, koliko vozlišč je vsem trem meram skupno\n",
    "            stevilo_skupnih_vozlisc = len(skupna_vozlisca) #preštejemo števila skupnih vozlišč\n",
    "            pokritost = float(stevilo_skupnih_vozlisc / max(len(maxB), len(minE), len(maxV))) #zračunamo procent, koliko vozlišč je skupnih vsem trem meram\n",
    "            povprecje = (povprecje + pokritost) / 2 #sproti računamo povprečno pokritost za vse grafe\n",
    "        \n",
    "    return(povprecje)\n",
    "            \n",
    "        \n",
    "        \n",
    "    \n",
    "algoritem(10)   "
   ]
  },
  {
   "cell_type": "code",
   "execution_count": 10,
   "metadata": {
    "collapsed": false,
    "scrolled": true
   },
   "outputs": [
    {
     "data": {
      "image/png": "[encoded data removed]",
      "text/plain": [
       "<Figure size 640x480 with 1 Axes>"
      ]
     },
     "execution_count": 10,
     "metadata": {
     },
     "output_type": "execute_result"
    }
   ],
   "source": [
    "import matplotlib.pyplot as plt\n",
    "plt.rcdefaults()\n",
    "import numpy as np\n",
    "import matplotlib.pyplot as plt\n",
    "\n",
    "velikosti = (10,11,12,13,14,15,16,17,18,19) #izberemo si velikosti grafov, na katerih bomo delali analizo. Zadnja številka je enaka številu vozlišč v socialnem omrežju s katerim bova primerjala rezultate\n",
    "seznam_velikosti = list(velikosti)\n",
    "povprecja = ()\n",
    "for i in range(10):\n",
    "    povprecja +=(algoritem(seznam_velikosti[i]),) #za vsako velikost poženemo algoritem, da dobimo povprečno pokritost\n",
    "\n",
    "y_pos = np.arange(len(povprecja))\n",
    "plt.bar(y_pos,povprecja,align = 'center',color=(0.2, 0.4, 0.6, 0.6))\n",
    "plt.xticks(y_pos,velikosti)\n",
    "plt.xlabel('Velikosti grafov')\n",
    "plt.ylabel('Povprecja')\n",
    "plt.title('Analiza povprecne pokritosti v razlicno velikih grafih')\n",
    "plt.show()"
   ]
  },
  {
   "cell_type": "markdown",
   "metadata": {
    "collapsed": false
   },
   "source": [
    "## Socialno omrežje"
   ]
  },
  {
   "cell_type": "code",
   "execution_count": 42,
   "metadata": {
    "collapsed": false
   },
   "outputs": [
   ],
   "source": [
    "import networkx as nx\n",
    "import math\n",
    "\n",
    "G_fb = nx.read_edgelist(\"facebook_combined.txt\", create_using = nx.Graph(), nodetype=int) #Iz datoteke smo socialno omrežje zapisali v obliki grafa\n",
    "#Graf ima 4039 vozlišč in 88234 povezav\n",
    "G_fb_sage = Graph(G_fb) #Zgornji graf smo pretvorili v Sage-ov graf\n",
    "G_tretji = nx.read_edgelist(\"testni5.txt\", create_using = nx.Graph(), nodetype=int) #Iz datoteke smo socialno omrežje zapisali v obliki grafa\n",
    "G_sage_tretji = Graph(G_tretji) #Zgornji graf smo pretvorili v Sage-ov graf\n",
    "\n",
    "\n",
    "def najboljsa_vozlisca_soc(G):\n",
    "    procent_vozlisc = round(9 * 0.5) #Velikost tega socialnega omrežja, ki sem si ga zmislu je 5 (testni.txt) in 9 (testni4.txt)\n",
    "    B = blizina(G) #dobimo seznam vozlišč in njihove bližine\n",
    "    E = ekscentricnost(G) #dobimo seznam vozlišč in njihove ekscentričnosti\n",
    "    V = vmesna_centralnost(G) #dobimo seznam vozlišč in njihove vmesne centralnosti\n",
    "      \n",
    "    maxB = [] #za bližino želimo dobiti seznam najboljših vozlišč, torej tisth, kjer je bližina največja\n",
    "    for j in range(procent_vozlisc):\n",
    "        najboljsiB = 0\n",
    "        for element in B:\n",
    "            if najboljsiB < element[1]:\n",
    "                najboljsiB = max(najboljsiB, element[1]) #poiščemo vozlišče z največjo bližino\n",
    "                vozlisceB = element[0] #zapomnimo si še vozlišče\n",
    "        B.remove(element) #ta element odstranimo iz seznama B\n",
    "        maxB.append((vozlisceB, najboljsiB)) #element dodamo v nov seznam najboljših (ime vozlišča, vrednost bližine vozlišča)\n",
    "    minimalni = min(maxB, key=lambda x: x[1])[1] #Preveriti moramo še, če je slučajno v B ostal kakšen element, ki ima enako vrednost, kot jo ima najmanjši element v maxB, saj mora biti potem to vozlišče tudi v maxB\n",
    "    for element in B:\n",
    "        if element[1] == minimalni:\n",
    "            maxB.append((element[0], element[1]))\n",
    "\n",
    "    minE = [] #za ekscentričnost želimo dobiti tista vozlišča, kjer je ekscentričnost najmanjša\n",
    "    for j in range(procent_vozlisc):\n",
    "        najboljsiE = 10000000000000 #neka velika številka, ker želimo najti minimum\n",
    "        for elementE in E:\n",
    "            if najboljsiE > elementE[1]:\n",
    "                najboljsiE = min(elementE[1], najboljsiE)\n",
    "                vozlisceE = elementE[0]\n",
    "        E.remove(elementE)\n",
    "        minE.append((vozlisceE, najboljsiE))\n",
    "    maksimalni = max(minE, key=lambda x: x[1])[1] #Preveriti moramo še, če je slučajno v E ostal kakšen element, ki ima enako vrednost, kot jo ima največji element v minE, saj mora biti potem to vozlišče tudi v minE\n",
    "    for element in E:\n",
    "        if element[1] == maksimalni:\n",
    "            minE.append((element[0], element[1]))\n",
    "\n",
    "    maxV = [] #za vmesno centralnost ponovno gledamo največjo vrednost\n",
    "    for j in range(procent_vozlisc):\n",
    "        najboljsiV = 0\n",
    "        for elementV in V:\n",
    "            if najboljsiV < elementV[1]:\n",
    "                najboljsiV = max(najboljsiV, elementV[1])\n",
    "                vozlisceV = elementV[0]\n",
    "        V.remove(elementV)\n",
    "        maxV.append((vozlisceV, najboljsiV))\n",
    "    minimalni = min(maxV, key=lambda x: x[1])[1] #Preveriti moramo še, če je slučajno v V ostal kakšen element, ki ima enako vrednost, kot jo ima najmanjši element v maxV, saj mora biti potem to vozlišče tudi v maxV\n",
    "    for element in V:\n",
    "        if element[1] == minimalni:\n",
    "            maxV.append((element[0], element[1]))\n",
    "\n",
    "    return(maxB, minE, maxV)"
   ]
  },
  {
   "cell_type": "code",
   "execution_count": 43,
   "metadata": {
    "collapsed": false
   },
   "outputs": [
   ],
   "source": [
    "def skupna_soc(maxB, minE, maxV):\n",
    "    imenaB = [] #Shranimo samo imena najpomembnejših vozlišč iz vidika bližine v nov seznam\n",
    "    for element in maxB:\n",
    "        imenaB+= [element[0]]\n",
    "        \n",
    "    imenaE = [] #Shranimo samo imena najpomembnejših vozlišč iz vidika ekscentričnosti v nov seznam\n",
    "    for element in minE:\n",
    "        imenaE+= [element[0]]\n",
    "\n",
    "    imenaV = [] #Shranimo samo imena najpomembnejših vozlišč iz vidika vmesne centralnosti v nov seznam\n",
    "    for element in maxV:\n",
    "        imenaV+= [element[0]]\n",
    "\n",
    "    skupna_vozl_soc = set(imenaB).intersection(imenaE).intersection(imenaV) #naredimo presek vsek treh seznamov.\n",
    "    #Še po parih, če nam bo slučajno pršlo prou ...\n",
    "    #najp_B_E = set(imenaB).intersection(imenaE)\n",
    "    #najp_B_V = set(imenaB).intersection(imenaV)\n",
    "    #najp_E_V = set(imenaE).intersection(imenaV)\n",
    "    return(skupna_vozl_soc)"
   ]
  },
  {
   "cell_type": "code",
   "execution_count": 44,
   "metadata": {
    "collapsed": false
   },
   "outputs": [
    {
     "data": {
      "text/plain": [
       "0.07142857142857142"
      ]
     },
     "execution_count": 44,
     "metadata": {
     },
     "output_type": "execute_result"
    }
   ],
   "source": [
    "def algoritem_soc(velikost):\n",
    "    povprecje = 0    \n",
    "    maxB, minE, maxV = najboljsa_vozlisca_soc(G) #naredimo sezname najboljših vozlišč za vsako mero posebej\n",
    "    skupna_vozlisca_soc = skupna_soc(maxB, minE, maxV) #preverimo, koliko vozlišč je vsem trem meram skupno\n",
    "    stevilo_skupnih_vozlisc_soc = len(skupna_vozlisca_soc) #preštejemo števila skupnih vozlišč\n",
    "    pokritost = float(stevilo_skupnih_vozlisc_soc / max(len(maxB), len(minE), len(maxV))) #zračunamo procent, koliko vozlišč je skupnih vsem trem meram\n",
    "    povprecje = (povprecje + pokritost) / 2 #sproti računamo povprečno pokritost za vse grafe\n",
    "        \n",
    "    return(povprecje)\n",
    "\n",
    "algoritem_soc(G_sage_tretji)"
   ]
  },
  {
   "cell_type": "code",
   "execution_count": 0,
   "metadata": {
    "collapsed": false
   },
   "outputs": [
   ],
   "source": [
    "G.random_subgraph(0.01)"
   ]
  }
 ],
 "metadata": {
  "kernelspec": {
   "display_name": "SageMath (stable)",
   "language": "sagemath",
   "metadata": {
    "cocalc": {
     "description": "Open-source mathematical software system",
     "priority": 10,
     "url": "https://www.sagemath.org/"
    }
   },
   "name": "sagemath"
  },
  "language_info": {
   "codemirror_mode": {
    "name": "ipython",
    "version": 2
   },
   "file_extension": ".py",
   "mimetype": "text/x-python",
   "name": "python",
   "nbconvert_exporter": "python",
   "pygments_lexer": "ipython2",
   "version": "2.7.15"
  }
 },
 "nbformat": 4,
 "nbformat_minor": 0
}