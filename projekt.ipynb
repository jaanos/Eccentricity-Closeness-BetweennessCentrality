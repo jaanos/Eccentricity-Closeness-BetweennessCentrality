{
 "cells": [
  {
   "cell_type": "markdown",
   "metadata": {
    "collapsed": false
   },
   "source": [
    "# BLIŽINA, EKSCENTRIČNOST IN VMESNA CENTRALNOST"
   ]
  },
  {
   "cell_type": "markdown",
   "metadata": {
    "collapsed": false
   },
   "source": [
    "Pri najinem projektu bova s pomočjo treh različnih mer (ekscentričnosti, bližine in vmesne centralnosti) iskala in analizirala najpomembnejša vozlišča v grafih oziroma socialnih omrežjih. Vozlišče je pomembnejše, če ima višjo vrednost bližine in vmesne centralnosti ter nižjo vrednost ekscentričnosti. Natančnejši opisi pojmov so spodaj. Primerjala bova, kako pogosto je vozlišče, ki je pomembno z vidika ene mere, pomembno tudi v okviru ostalih dveh mer.\n",
    "\n",
    "Najino glavno orodje za analizo grafov bo $Sage$, kjer bova generirala več grafov (približno 1000) v različnih velikostih (približno 10), grafe socialnih omrežij pa bova pridobila s spleta. Opazovala bova tudi, kako se vrednosti mer za najpomembnejša vozlišča spremenijo, če se omejimo na podgraf v določenem grafu. Grafi, ki jih bova pri projektu analizirala, bodo neusmerjeni."
   ]
  },
  {
   "cell_type": "markdown",
   "metadata": {
    "collapsed": false
   },
   "source": [
    "## Bližina\n",
    "Bližina je v povezanem grafu mera centralnosti, ki jo izračunamo kot\n",
    "recipročno vsoto dolžin najkrajših poti med nekim vozliščem in vsemi\n",
    "drugimi vozlišči v grafu. Bližje kot je opazovano vozlišče ostalim\n",
    "vozliščem v grafu, bolj centralno je.\n",
    "\n",
    "\\begin{equation*}\n",
    "C(x) = \\frac{1}{\\sum_{y}d(y,x)},\n",
    "\\end{equation*}\n",
    "\n",
    "kjer je *d*(*y*, *x*) razdalja med vozliščema x in y. Pogosto se namesto\n",
    "zgornje vrednosti izračuna povprečno dolžino najkrajše poti v grafu.\n",
    "Dobimo jo tako, da zgornjo formulo pomnožimo z *N* − 1, kjer je *N*\n",
    "število vseh vozlišč v grafu. Pri obsežnejših grafih se  − 1 izpusti iz\n",
    "enačbe, zato se za bližino uporablja kar sledečo formulo:\n",
    "\n",
    "\\begin{equation*}\n",
    "C(x) = \\frac{N}{\\sum_{y}d(y,x)}.\n",
    "\\end{equation*}\n",
    "\n",
    "Pri usmerjenih grafih je potrebno upoštevati tudi smer povezav. Določeno\n",
    "vozlišče ima lahko različno bližino za vhodne in izhodne povezave. V\n",
    "nepovezanih grafih namesto recipročne vsote dolžin najkrajših poti med\n",
    "vozlišči računamo vsoto recipročnih dolžin najkrajših poti med vozlišči.\n",
    "Pri tem upoštevamo, da $1/\\infty = 0$\n",
    "\n",
    "\\begin{equation*}\n",
    "H(x) = \\frac{N}{\\sum_{y \\neq x}d(y,x)}.\n",
    "\\end{equation*}"
   ]
  },
  {
   "cell_type": "markdown",
   "metadata": {
    "collapsed": false
   },
   "source": [
    "## Ekscentričnost (izsrednost)\n",
    "Ekscentričnost nekega vozlišča $v$  v povezanem grafu $G$ označimo z $\\epsilon(v)$ in je definirana kot maksimalna dolžina med vozliščem $v$ in katerimkoli drugim vozliščem v grafu $G$. V nepovezanih grafih imajo vsa vozlišča neskončno vrednost ekscentičnosti.\n",
    "Maksimalno ekscentričnost v grafu imenujemo diameter (premer) grafa (najdaljša najkrajša pot med dvema vozliščema grafa), minimalno ekscentričnost pa polmer grafa."
   ]
  },
  {
   "cell_type": "markdown",
   "metadata": {
    "collapsed": false
   },
   "source": [
    "## Vmesna centralnost\n",
    "\n",
    "V teoriji grafov je vmesna centralnost mera centralizacije grafa, ki temelji na najkrajših poteh v grafu. Za vsak par vozlišč v povezanem grafu, obstaja vsaj ena najkrajša pot med vozliščema tako, da je katerokoli število povezav, po katerih gre ta pot (za neutežene grafe) ali pa vsota uteži na povezavah (za utežene grafe) minimalna. Vmesna centralnost za vsako vozlišče je število teh najkrajših poti, ki grejo skozi vozlišče. Vmesna centralnost se uporablja v mnogih problemih v teoriji omrežij, tudi v problemih povezanih s socialnimi omrežji, biologijo in transportom. V telekomunikacijskem omrežju ima vozlišče z višjo vrednostjo vmesne centralnosti večjo kontrolo nad omrežjem, ker bo več informacij teklo čez to vozlišče. Vmesna centralnost vozlišča $v$ je podana z izrazom:\n",
    "\n",
    "\\begin{equation*}\n",
    "g(v) = \\sum_{s \\ne v \\ne t}^{ } \\frac{\\sigma_{st} (v)}{\\sigma_{st}}\n",
    "\\end{equation*}\n",
    "\n",
    "Kjer je $\\sigma_{st}$ skupno število najkrajših poti od vozlišča $s$ do vozlišča $t$ in $\\sigma_{st} (v)$ je število teh poti, ki grejo skozi $v$. "
   ]
  },
  {
   "cell_type": "markdown",
   "metadata": {
    "collapsed": false
   },
   "source": [
    "## Implementacija algoritma\n",
    "Torej najprej se bova osredotočila na implementacijo algoritma, ki bo osnovan na podlagi Dijkstrovega algoritma, ki mu bova dodala vse tri mere, glede na katere bova ocenjevala grafe."
   ]
  },
  {
   "cell_type": "markdown",
   "metadata": {
    "collapsed": false
   },
   "source": [
    "##### Dijkstrov algoritem"
   ]
  },
  {
   "cell_type": "code",
   "execution_count": 15,
   "metadata": {
    "collapsed": false
   },
   "outputs": [
    {
     "data": {
      "text/plain": [
       "deque(['a', 'f', 'c', 'd'])"
      ]
     },
     "execution_count": 15,
     "metadata": {
     },
     "output_type": "execute_result"
    }
   ],
   "source": [
    "from collections import deque, namedtuple\n",
    "\n",
    "\n",
    "# uporabimo neskončno za začetno razdaljo do vozlišč.\n",
    "inf = float('inf')\n",
    "#trojka z začetnm vozliščem, končnim vozliščem in ceno povezave\n",
    "Edge = namedtuple('Edge', 'start, end, cost')\n",
    "\n",
    "\n",
    "def make_edge(start, end, cost=1):\n",
    "  return Edge(start, end, cost)\n",
    "\n",
    "\n",
    "class Graph:\n",
    "    def __init__(self, edges):\n",
    "        # preverimo če so pravi podatki torej če lahko iz tega zgradimo graf\n",
    "        wrong_edges = [i for i in edges if len(i) not in [2, 3]]\n",
    "        if wrong_edges:\n",
    "            raise ValueError('Wrong edges data: {}'.format(wrong_edges))\n",
    "\n",
    "        self.edges = [make_edge(*edge) for edge in edges]\n",
    "        vmesna = self.edges\n",
    "        nova = []\n",
    "        for edge in vmesna:\n",
    "            nova.append(make_edge(edge.end, edge.start))\n",
    "        self.edges = vmesna + nova\n",
    "        \n",
    "\n",
    "    @property\n",
    "    def vertices(self):\n",
    "        #dobimo množico vozlišč, ki so v grafu\n",
    "        return set(\n",
    "            sum(\n",
    "                ([edge.start, edge.end] for edge in self.edges), []\n",
    "            )\n",
    "        )\n",
    "\n",
    "    def get_node_pairs(self, n1, n2, both_ends=True):\n",
    "        #dobimo pare vozlišč\n",
    "        if both_ends:\n",
    "            node_pairs = [[n1, n2], [n2, n1]]\n",
    "        else:\n",
    "            node_pairs = [[n1, n2]]\n",
    "        return node_pairs\n",
    "\n",
    "    def remove_edge(self, n1, n2, both_ends=True):\n",
    "        #funkcija, ki odstrani povezavo med vozliščema\n",
    "        node_pairs = self.get_node_pairs(n1, n2, both_ends)\n",
    "        edges = self.edges[:]\n",
    "        for edge in edges:\n",
    "            if [edge.start, edge.end] in node_pairs:\n",
    "                self.edges.remove(edge)\n",
    "\n",
    "    def add_edge(self, n1, n2, cost=1, both_ends=True):\n",
    "        #funkcija, ki doda povezavo med vozliščema\n",
    "        node_pairs = self.get_node_pairs(n1, n2, both_ends)\n",
    "        for edge in self.edges:\n",
    "            if [edge.start, edge.end] in node_pairs:\n",
    "                return ValueError('Edge {} {} already exists'.format(n1, n2))\n",
    "\n",
    "        self.edges.append(Edge(start=n1, end=n2, cost=cost))\n",
    "        if both_ends:\n",
    "            self.edges.append(Edge(start=n2, end=n1, cost=cost))\n",
    "\n",
    "    @property\n",
    "    def neighbours(self):\n",
    "        #funkcija, ki najde sosede vsakega vozlišča\n",
    "        neighbours = {vertex: set() for vertex in self.vertices}\n",
    "        for edge in self.edges:\n",
    "            neighbours[edge.start].add((edge.end, edge.cost))\n",
    "\n",
    "        return neighbours\n",
    "\n",
    "    def dijkstra(self, source, dest):\n",
    "        assert source in self.vertices, 'Such source node doesn\\'t exist'\n",
    "        #nastavimo vse razdalje na začetku na neskončno\n",
    "        distances = {vertex: inf for vertex in self.vertices}\n",
    "        #prejšna vozlišča, nazačetki vse na None\n",
    "        previous_vertices = {\n",
    "            vertex: None for vertex in self.vertices\n",
    "        }\n",
    "        #razdalja od začetka do začetka je 0\n",
    "        distances[source] = 0\n",
    "        #naredimo kopijo\n",
    "        vertices = self.vertices.copy()\n",
    "        #dokler imamo za preverit še kakšno vozlišle\n",
    "        while vertices:\n",
    "            #trenutno vozlišče\n",
    "            current_vertex = min(\n",
    "                vertices, key=lambda vertex: distances[vertex])\n",
    "            vertices.remove(current_vertex)\n",
    "            if distances[current_vertex] == inf:\n",
    "                break\n",
    "            for neighbour, cost in self.neighbours[current_vertex]:\n",
    "                alternative_route = distances[current_vertex] + cost\n",
    "                if alternative_route < distances[neighbour]:\n",
    "                    distances[neighbour] = alternative_route\n",
    "                    previous_vertices[neighbour] = current_vertex\n",
    "\n",
    "        path, current_vertex = deque(), dest\n",
    "        while previous_vertices[current_vertex] is not None:\n",
    "            path.appendleft(current_vertex)\n",
    "            current_vertex = previous_vertices[current_vertex]\n",
    "        if path:\n",
    "            path.appendleft(current_vertex)\n",
    "        return path\n",
    "\n",
    "\n",
    "graph = Graph([\n",
    "    (\"a\", \"b\"),(\"a\", \"f\"), (\"c\", \"d\"), (\"c\", \"f\"),  (\"d\", \"e\"), (\"g\", \"g\"),\n",
    "    (\"e\", \"f\")])\n",
    "\n",
    "graph.dijkstra(\"a\", \"d\")\n"
   ]
  },
  {
   "cell_type": "markdown",
   "metadata": {
    "collapsed": false
   },
   "source": [
    "##### Bližina"
   ]
  },
  {
   "cell_type": "code",
   "execution_count": 19,
   "metadata": {
    "collapsed": false
   },
   "outputs": [
    {
     "name": "stdout",
     "output_type": "stream",
     "text": [
      "[('a', 1/7), ('c', 1/7), ('b', 1/11), ('e', 1/7), ('d', 1/9), ('g', -1/7), ('f', 1/5)]\n"
     ]
    }
   ],
   "source": [
    "def blizina(graph):\n",
    "    seznam=[]\n",
    "    for x in graph.vertices:\n",
    "        D = 0\n",
    "        for y in graph.vertices:\n",
    "            D = D + (len(graph.dijkstra(x, y))-1) #minus 1 odštejemo, ker so v seznamu, ki nam ga vrne Dijkstrov algoritem zapisana vsa vozlišča, med                                                      katerimi gledamo povezanost, torej ko preštejemo povezave med temi vozlišči, je ravno ena manj,                                                        kot je vozlišč; npr. za 4 vozlišča imamo vmes 3 povezave\n",
    "        if D == 0:\n",
    "            C = float('inf')\n",
    "        else:\n",
    "            C = 1/D\n",
    "        seznam.append((x,C))\n",
    "    print(seznam)\n",
    "blizina(graph)"
   ]
  },
  {
   "cell_type": "markdown",
   "metadata": {
    "collapsed": false
   },
   "source": [
    "##### Ekscentričnost (Izsrednost)"
   ]
  },
  {
   "cell_type": "code",
   "execution_count": 17,
   "metadata": {
    "collapsed": false
   },
   "outputs": [
    {
     "name": "stdout",
     "output_type": "stream",
     "text": [
      "[('a', 3), ('c', 3), ('b', 4), ('e', 3), ('d', 4), ('g', inf), ('f', 2)]\n"
     ]
    }
   ],
   "source": [
    "def ekscentricnost(graph):\n",
    "    seznam=[]\n",
    "    for x in graph.vertices:\n",
    "        D = 0\n",
    "        for y in graph.vertices:\n",
    "            D = max(D, len(graph.dijkstra(x, y))-1) #minus 1 odštejemo, ker so v seznamu, ki nam ga vrne Dijkstrov algoritem zapisana vsa vozlišča, med                                                      katerimi gledamo povezanost, torej ko preštejemo povezave med temi vozlišči, je ravno ena manj,                                                        kot je vozlišč; npr. za 4 vozlišča imamo vmes 3 povezave\n",
    "        if D == 0:\n",
    "            D = float('inf')\n",
    "        seznam.append((x,D))\n",
    "    print(seznam)\n",
    "ekscentricnost(graph)"
   ]
  },
  {
   "cell_type": "code",
   "execution_count": 0,
   "metadata": {
    "collapsed": false
   },
   "outputs": [
   ],
   "source": [
   ]
  },
  {
   "cell_type": "code",
   "execution_count": 0,
   "metadata": {
    "collapsed": false
   },
   "outputs": [
   ],
   "source": [
   ]
  }
 ],
 "metadata": {
  "kernelspec": {
   "display_name": "SageMath (stable)",
   "language": "sagemath",
   "metadata": {
    "cocalc": {
     "description": "Open-source mathematical software system",
     "priority": 10,
     "url": "https://www.sagemath.org/"
    }
   },
   "name": "sagemath"
  },
  "language_info": {
   "codemirror_mode": {
    "name": "ipython",
    "version": 2
   },
   "file_extension": ".py",
   "mimetype": "text/x-python",
   "name": "python",
   "nbconvert_exporter": "python",
   "pygments_lexer": "ipython2",
   "version": "2.7.15"
  }
 },
 "nbformat": 4,
 "nbformat_minor": 0
}